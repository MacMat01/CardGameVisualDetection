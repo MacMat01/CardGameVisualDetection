﻿{
 "cells": [
  {
   "cell_type": "code",
   "id": "initial_id",
   "metadata": {
    "collapsed": true,
    "ExecuteTime": {
     "end_time": "2024-05-30T17:29:16.453236Z",
     "start_time": "2024-05-30T17:29:16.443484Z"
    }
   },
   "source": [
    "import os\n",
    "\n",
    "# Get the current working directory. This is the directory from which the script is being run.\n",
    "ROOT = os.getcwd()\n",
    "HOME = os.path.dirname(ROOT)\n",
    "\n",
    "# Print the current working directory. This can be useful for debugging, to ensure that your files are being \n",
    "# accessed from the correct location.\n",
    "print(HOME)"
   ],
   "outputs": [
    {
     "name": "stdout",
     "output_type": "stream",
     "text": [
      "C:\\Users\\macma\\PycharmProjects\\strategic-fruits-card-detection\\src\\main\\python\n"
     ]
    }
   ],
   "execution_count": 1
  },
  {
   "metadata": {},
   "cell_type": "markdown",
   "source": "Installazione, estrazione e creazione del file pickle per i backgrounds per la creazione di scenari",
   "id": "2eb124d5e060e3ee"
  },
  {
   "metadata": {
    "ExecuteTime": {
     "end_time": "2024-05-30T17:30:57.864445Z",
     "start_time": "2024-05-30T17:29:16.456244Z"
    }
   },
   "cell_type": "code",
   "source": [
    "import requests\n",
    "import os\n",
    "\n",
    "url = \"https://www.robots.ox.ac.uk/~vgg/data/dtd/download/dtd-r1.0.1.tar.gz\"\n",
    "response = requests.get(url, stream=True)\n",
    "\n",
    "# Scegli la cartella di destinazione\n",
    "dest_folder = os.path.join(HOME, \"dataset_creation/data/dtd_raw\")\n",
    "\n",
    "# Assicurati che la cartella esista\n",
    "os.makedirs(dest_folder, exist_ok=True)\n",
    "\n",
    "# Crea il percorso completo del file\n",
    "file_path = os.path.join(dest_folder, \"dtd-r1.0.1.tar.gz\")\n",
    "\n",
    "with open(file_path, \"wb\") as out_file:\n",
    "    out_file.write(response.content)\n",
    "\n",
    "print(\"File scaricato con successo.\")"
   ],
   "id": "48f425e68c94e72d",
   "outputs": [
    {
     "name": "stdout",
     "output_type": "stream",
     "text": [
      "File scaricato con successo.\n"
     ]
    }
   ],
   "execution_count": 2
  },
  {
   "metadata": {
    "ExecuteTime": {
     "end_time": "2024-05-30T17:31:13.253321Z",
     "start_time": "2024-05-30T17:30:57.866454Z"
    }
   },
   "cell_type": "code",
   "source": [
    "import tarfile\n",
    "import shutil\n",
    "\n",
    "tar = tarfile.open(file_path)\n",
    "tar.extractall(os.path.join(HOME, \"dataset_creation/data\"))\n",
    "tar.close()\n",
    "\n",
    "# Rimuovere la directory 'dtd_raw'\n",
    "shutil.rmtree(os.path.join(HOME, \"dataset_creation/data/dtd_raw\"))\n",
    "\n",
    "print(\"File estratto e cartella raw eliminata con successo.\")"
   ],
   "id": "2301f480b2ad37eb",
   "outputs": [
    {
     "name": "stdout",
     "output_type": "stream",
     "text": [
      "File estratto e cartella raw eliminata con successo.\n"
     ]
    }
   ],
   "execution_count": 3
  },
  {
   "metadata": {
    "ExecuteTime": {
     "end_time": "2024-05-30T17:32:09.250618Z",
     "start_time": "2024-05-30T17:31:13.254328Z"
    }
   },
   "cell_type": "code",
   "source": [
    "import pickle\n",
    "from glob import glob\n",
    "\n",
    "import matplotlib.image as mpimg\n",
    "\n",
    "backgrounds_pck_fn = os.path.join(HOME, \"dataset_creation/data/backgrounds.pck\")\n",
    "\n",
    "dtd_dir = os.path.join(HOME, \"dataset_creation/data/dtd/images\")\n",
    "bg_images = []\n",
    "for subdir in glob(dtd_dir + \"/*\"):\n",
    "    for f in glob(subdir + \"/*.jpg\"):\n",
    "        bg_images.append(mpimg.imread(f))\n",
    "print(\"Nb of images loaded :\", len(bg_images))\n",
    "print(\"Saved in :\", backgrounds_pck_fn)\n",
    "pickle.dump(bg_images, open(backgrounds_pck_fn, 'wb'))"
   ],
   "id": "3a66bd3159a698a2",
   "outputs": [
    {
     "name": "stdout",
     "output_type": "stream",
     "text": [
      "Nb of images loaded : 5640\n",
      "Saved in : C:\\Users\\macma\\PycharmProjects\\strategic-fruits-card-detection\\src\\main\\python\\dataset_creation/data/backgrounds.pck\n"
     ]
    }
   ],
   "execution_count": 4
  },
  {
   "metadata": {},
   "cell_type": "markdown",
   "source": "Modifica card_measures.py per adattare le misure delle tue carte, modifica anche global variables.py per adattare le tue variabili globali.",
   "id": "ec1e765fc4151d00"
  },
  {
   "metadata": {},
   "cell_type": "markdown",
   "source": [
    "Fai dei video di circa 20s di ognuna delle tue carte, utilizza uno sfondo verde e varia la luce durante la registrazione del video, in modo da avere un dataset più vario.\n",
    "Inserisci i video nella cartella data/video\n",
    "In alternativa puoi utilizzare lo script video_capture.py per catturare i video, una volta eseguito lo script premi 's' per iniziare una registrazione di 20s che verrà poi salvata in data/video, ripeti il processo per ognuna delle tue carte e successivamente premi  'q' per terminare il processo."
   ],
   "id": "da8826e3cf86cdf3"
  },
  {
   "metadata": {},
   "cell_type": "markdown",
   "source": [
    "Modifica data/card.names in base alle tue esigenze. Deve contenere tutti i nomi delle tue carte separati da un a capo. Ad esempio per le carte da poker dovrebbe essere:\n",
    "```\n",
    "1h (1 of hearts)\n",
    "2h (2 of hearts)\n",
    "etc..\n",
    "Ah (Ace of hearts)\n",
    "1d (1 of diamonds)\n",
    "2d (2 of diamonds)\n",
    "etc...\n",
    "```\n",
    "Ignora le parentesi, deve solo contenere suit e value per ogni carta."
   ],
   "id": "862220d7f5e1e0ac"
  },
  {
   "metadata": {},
   "cell_type": "markdown",
   "source": "Estrazione delle carte dai video nella cartella data/video",
   "id": "8103263165c3e49c"
  },
  {
   "metadata": {
    "jupyter": {
     "is_executing": true
    },
    "ExecuteTime": {
     "start_time": "2024-05-30T17:32:09.258624Z"
    }
   },
   "cell_type": "code",
   "source": [
    "from extract_card import *\n",
    "from global_variables import *\n",
    "\n",
    "# extract all the cards from a video frames\n",
    "video_dir = os.path.join(HOME, \"dataset_creation/data/video\")\n",
    "extension = \"mp4\"\n",
    "imgs_dir = os.path.join(HOME, \"dataset_creation/data/cards\")\n",
    "\n",
    "for suit in card_suits:\n",
    "    for value in card_values:\n",
    "\n",
    "        card_name = value + suit\n",
    "        video_fn = os.path.join(video_dir, card_name + \".\" + extension)\n",
    "        output_dir = os.path.join(imgs_dir, card_name)\n",
    "        if not os.path.isdir(output_dir):\n",
    "            os.makedirs(output_dir)\n",
    "        imgs = extract_cards_from_video(video_fn, output_dir)\n",
    "        print(\"Extracted images for %s : %d\" % (card_name, len(imgs)))"
   ],
   "id": "3f3042144469087c",
   "outputs": [
    {
     "name": "stdout",
     "output_type": "stream",
     "text": [
      "Extracted images for 1a : 135\n",
      "Extracted images for 2a : 126\n",
      "Extracted images for 3a : 123\n",
      "Extracted images for 4a : 119\n",
      "Extracted images for 5a : 165\n",
      "Extracted images for 1p : 175\n",
      "Extracted images for 2p : 125\n",
      "Extracted images for 3p : 120\n",
      "Extracted images for 4p : 174\n",
      "Extracted images for 5p : 175\n",
      "Extracted images for 1o : 181\n",
      "Extracted images for 2o : 178\n"
     ]
    }
   ],
   "execution_count": null
  }
 ],
 "metadata": {
  "kernelspec": {
   "display_name": "Python 3",
   "language": "python",
   "name": "python3"
  },
  "language_info": {
   "codemirror_mode": {
    "name": "ipython",
    "version": 2
   },
   "file_extension": ".py",
   "mimetype": "text/x-python",
   "name": "python",
   "nbconvert_exporter": "python",
   "pygments_lexer": "ipython2",
   "version": "2.7.6"
  }
 },
 "nbformat": 4,
 "nbformat_minor": 5
}
