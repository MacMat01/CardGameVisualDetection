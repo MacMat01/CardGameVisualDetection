﻿{
 "cells": [
  {
   "metadata": {},
   "cell_type": "markdown",
   "source": "Esegui lo script dataset_creation/test_hull.py per verificare che i bounding box e gli hull nei bounding box siano corretti. Se non viene mostrata nessuna carta dovrai modificare i valori TWEAK nello script hull.py finché test_hull.py non restituirà un'immagine con box e hull ogni volta che viene eseguito(eseguilo diverse volte, non fermarti alla prima esecuzione corretta).",
   "id": "2aebcf3407f8983b"
  },
  {
   "metadata": {},
   "cell_type": "markdown",
   "source": "Ora che hai verificato che gli hull funzionano puoi eseguire per intero questo file Jupyter Notebook.",
   "id": "a521c256f1c60f22"
  },
  {
   "metadata": {
    "ExecuteTime": {
     "end_time": "2024-05-31T16:09:36.202983Z",
     "start_time": "2024-05-31T16:09:36.197849Z"
    }
   },
   "cell_type": "code",
   "source": [
    "import os\n",
    "\n",
    "# Get the current working directory. This is the directory from which the script is being run.\n",
    "ROOT = os.getcwd()\n",
    "HOME = os.path.dirname(ROOT)\n",
    "\n",
    "# Print the current working directory. This can be useful for debugging, to ensure that your files are being \n",
    "# accessed from the correct location.\n",
    "print(HOME)"
   ],
   "id": "a827fc8c1f7c5964",
   "outputs": [
    {
     "name": "stdout",
     "output_type": "stream",
     "text": [
      "C:\\Users\\crist\\PycharmProjects\\strategic-fruits-card-detection\\src\\main\\python\n"
     ]
    }
   ],
   "execution_count": 5
  },
  {
   "metadata": {},
   "cell_type": "markdown",
   "source": "Hull delle carte",
   "id": "79a68f5ddfd7a8ce"
  },
  {
   "metadata": {
    "ExecuteTime": {
     "end_time": "2024-05-31T16:09:54.014119Z",
     "start_time": "2024-05-31T16:09:36.204992Z"
    }
   },
   "cell_type": "code",
   "source": [
    "import pickle\n",
    "from glob import glob\n",
    "from global_variables import *\n",
    "\n",
    "from functions import *\n",
    "\n",
    "from hull import findHull\n",
    "\n",
    "# find the convex hull for all the cards and store them in a pickle file\n",
    "imgs_dir = os.path.join(HOME, \"dataset_creation/data/cards\")\n",
    "cards_pck_fn = os.path.join(HOME, \"dataset_creation/data/cards.pck\")\n",
    "\n",
    "cards = {}\n",
    "for suit in card_suits:\n",
    "    for value in card_values:\n",
    "        card_name = value + suit\n",
    "        card_dir = os.path.join(imgs_dir, card_name)\n",
    "        if not os.path.isdir(card_dir):\n",
    "            print(f\"!!! {card_dir} does not exist !!!\")\n",
    "            continue\n",
    "        cards[card_name] = []\n",
    "        for f in glob(card_dir + \"/*.png\"):\n",
    "            img = cv2.imread(f, cv2.IMREAD_UNCHANGED)\n",
    "            hullHL = findHull(img, refCornerHL, debug=\"no\")\n",
    "            if hullHL is None:\n",
    "                print(f\"File {f} not used.\")\n",
    "                continue\n",
    "            hullLR = findHull(img, refCornerLR, debug=\"no\")\n",
    "            if hullLR is None:\n",
    "                print(f\"File {f} not used.\")\n",
    "                continue\n",
    "            # We store the image in \"rgb\" format (we don't need opencv anymore)\n",
    "            img = cv2.cvtColor(img, cv2.COLOR_BGRA2RGBA)\n",
    "            cards[card_name].append((img, hullHL, hullLR))\n",
    "        print(f\"Nb images for {card_name} : {len(cards[card_name])}\")\n",
    "\n",
    "print(\"Saved in :\", cards_pck_fn)\n",
    "pickle.dump(cards, open(cards_pck_fn, 'wb'))\n",
    "\n",
    "cv2.destroyAllWindows()"
   ],
   "id": "8ed4740a72289522",
   "outputs": [
    {
     "name": "stdout",
     "output_type": "stream",
     "text": [
      "File C:\\Users\\crist\\PycharmProjects\\strategic-fruits-card-detection\\src\\main\\python\\dataset_creation/data/cards\\1a\\052709546.png not used.\n",
      "File C:\\Users\\crist\\PycharmProjects\\strategic-fruits-card-detection\\src\\main\\python\\dataset_creation/data/cards\\1a\\073422536.png not used.\n",
      "File C:\\Users\\crist\\PycharmProjects\\strategic-fruits-card-detection\\src\\main\\python\\dataset_creation/data/cards\\1a\\254517733.png not used.\n",
      "File C:\\Users\\crist\\PycharmProjects\\strategic-fruits-card-detection\\src\\main\\python\\dataset_creation/data/cards\\1a\\269683239.png not used.\n",
      "File C:\\Users\\crist\\PycharmProjects\\strategic-fruits-card-detection\\src\\main\\python\\dataset_creation/data/cards\\1a\\370738415.png not used.\n",
      "File C:\\Users\\crist\\PycharmProjects\\strategic-fruits-card-detection\\src\\main\\python\\dataset_creation/data/cards\\1a\\489708847.png not used.\n",
      "File C:\\Users\\crist\\PycharmProjects\\strategic-fruits-card-detection\\src\\main\\python\\dataset_creation/data/cards\\1a\\535664981.png not used.\n",
      "File C:\\Users\\crist\\PycharmProjects\\strategic-fruits-card-detection\\src\\main\\python\\dataset_creation/data/cards\\1a\\558994792.png not used.\n",
      "File C:\\Users\\crist\\PycharmProjects\\strategic-fruits-card-detection\\src\\main\\python\\dataset_creation/data/cards\\1a\\724276887.png not used.\n",
      "File C:\\Users\\crist\\PycharmProjects\\strategic-fruits-card-detection\\src\\main\\python\\dataset_creation/data/cards\\1a\\807578654.png not used.\n",
      "Nb images for 1a : 125\n",
      "File C:\\Users\\crist\\PycharmProjects\\strategic-fruits-card-detection\\src\\main\\python\\dataset_creation/data/cards\\2a\\259753657.png not used.\n",
      "File C:\\Users\\crist\\PycharmProjects\\strategic-fruits-card-detection\\src\\main\\python\\dataset_creation/data/cards\\2a\\310269934.png not used.\n",
      "File C:\\Users\\crist\\PycharmProjects\\strategic-fruits-card-detection\\src\\main\\python\\dataset_creation/data/cards\\2a\\318450869.png not used.\n",
      "File C:\\Users\\crist\\PycharmProjects\\strategic-fruits-card-detection\\src\\main\\python\\dataset_creation/data/cards\\2a\\514133579.png not used.\n",
      "File C:\\Users\\crist\\PycharmProjects\\strategic-fruits-card-detection\\src\\main\\python\\dataset_creation/data/cards\\2a\\798909648.png not used.\n",
      "File C:\\Users\\crist\\PycharmProjects\\strategic-fruits-card-detection\\src\\main\\python\\dataset_creation/data/cards\\2a\\827017685.png not used.\n",
      "Nb images for 2a : 120\n",
      "File C:\\Users\\crist\\PycharmProjects\\strategic-fruits-card-detection\\src\\main\\python\\dataset_creation/data/cards\\3a\\134889792.png not used.\n",
      "File C:\\Users\\crist\\PycharmProjects\\strategic-fruits-card-detection\\src\\main\\python\\dataset_creation/data/cards\\3a\\194833869.png not used.\n",
      "File C:\\Users\\crist\\PycharmProjects\\strategic-fruits-card-detection\\src\\main\\python\\dataset_creation/data/cards\\3a\\272966494.png not used.\n",
      "File C:\\Users\\crist\\PycharmProjects\\strategic-fruits-card-detection\\src\\main\\python\\dataset_creation/data/cards\\3a\\308275566.png not used.\n",
      "File C:\\Users\\crist\\PycharmProjects\\strategic-fruits-card-detection\\src\\main\\python\\dataset_creation/data/cards\\3a\\465951033.png not used.\n",
      "File C:\\Users\\crist\\PycharmProjects\\strategic-fruits-card-detection\\src\\main\\python\\dataset_creation/data/cards\\3a\\469567517.png not used.\n",
      "File C:\\Users\\crist\\PycharmProjects\\strategic-fruits-card-detection\\src\\main\\python\\dataset_creation/data/cards\\3a\\544218134.png not used.\n",
      "File C:\\Users\\crist\\PycharmProjects\\strategic-fruits-card-detection\\src\\main\\python\\dataset_creation/data/cards\\3a\\607755662.png not used.\n",
      "File C:\\Users\\crist\\PycharmProjects\\strategic-fruits-card-detection\\src\\main\\python\\dataset_creation/data/cards\\3a\\626256143.png not used.\n",
      "File C:\\Users\\crist\\PycharmProjects\\strategic-fruits-card-detection\\src\\main\\python\\dataset_creation/data/cards\\3a\\657122313.png not used.\n",
      "File C:\\Users\\crist\\PycharmProjects\\strategic-fruits-card-detection\\src\\main\\python\\dataset_creation/data/cards\\3a\\673310783.png not used.\n",
      "File C:\\Users\\crist\\PycharmProjects\\strategic-fruits-card-detection\\src\\main\\python\\dataset_creation/data/cards\\3a\\720768092.png not used.\n",
      "File C:\\Users\\crist\\PycharmProjects\\strategic-fruits-card-detection\\src\\main\\python\\dataset_creation/data/cards\\3a\\763474655.png not used.\n",
      "File C:\\Users\\crist\\PycharmProjects\\strategic-fruits-card-detection\\src\\main\\python\\dataset_creation/data/cards\\3a\\903621649.png not used.\n",
      "File C:\\Users\\crist\\PycharmProjects\\strategic-fruits-card-detection\\src\\main\\python\\dataset_creation/data/cards\\3a\\911178747.png not used.\n",
      "File C:\\Users\\crist\\PycharmProjects\\strategic-fruits-card-detection\\src\\main\\python\\dataset_creation/data/cards\\3a\\989128027.png not used.\n",
      "Nb images for 3a : 107\n",
      "Nb images for 4a : 119\n",
      "Nb images for 5a : 150\n",
      "Nb images for 1p : 150\n",
      "Nb images for 2p : 125\n",
      "Nb images for 3p : 120\n",
      "Nb images for 4p : 150\n",
      "Nb images for 5p : 150\n",
      "File C:\\Users\\crist\\PycharmProjects\\strategic-fruits-card-detection\\src\\main\\python\\dataset_creation/data/cards\\1o\\024828268.png not used.\n",
      "File C:\\Users\\crist\\PycharmProjects\\strategic-fruits-card-detection\\src\\main\\python\\dataset_creation/data/cards\\1o\\063247552.png not used.\n",
      "File C:\\Users\\crist\\PycharmProjects\\strategic-fruits-card-detection\\src\\main\\python\\dataset_creation/data/cards\\1o\\071431533.png not used.\n",
      "File C:\\Users\\crist\\PycharmProjects\\strategic-fruits-card-detection\\src\\main\\python\\dataset_creation/data/cards\\1o\\072982894.png not used.\n",
      "File C:\\Users\\crist\\PycharmProjects\\strategic-fruits-card-detection\\src\\main\\python\\dataset_creation/data/cards\\1o\\099398250.png not used.\n",
      "File C:\\Users\\crist\\PycharmProjects\\strategic-fruits-card-detection\\src\\main\\python\\dataset_creation/data/cards\\1o\\166571080.png not used.\n",
      "File C:\\Users\\crist\\PycharmProjects\\strategic-fruits-card-detection\\src\\main\\python\\dataset_creation/data/cards\\1o\\210529590.png not used.\n",
      "File C:\\Users\\crist\\PycharmProjects\\strategic-fruits-card-detection\\src\\main\\python\\dataset_creation/data/cards\\1o\\216864679.png not used.\n",
      "File C:\\Users\\crist\\PycharmProjects\\strategic-fruits-card-detection\\src\\main\\python\\dataset_creation/data/cards\\1o\\247805499.png not used.\n",
      "File C:\\Users\\crist\\PycharmProjects\\strategic-fruits-card-detection\\src\\main\\python\\dataset_creation/data/cards\\1o\\266820936.png not used.\n",
      "File C:\\Users\\crist\\PycharmProjects\\strategic-fruits-card-detection\\src\\main\\python\\dataset_creation/data/cards\\1o\\292003783.png not used.\n",
      "File C:\\Users\\crist\\PycharmProjects\\strategic-fruits-card-detection\\src\\main\\python\\dataset_creation/data/cards\\1o\\300103126.png not used.\n",
      "File C:\\Users\\crist\\PycharmProjects\\strategic-fruits-card-detection\\src\\main\\python\\dataset_creation/data/cards\\1o\\321167672.png not used.\n",
      "File C:\\Users\\crist\\PycharmProjects\\strategic-fruits-card-detection\\src\\main\\python\\dataset_creation/data/cards\\1o\\364745616.png not used.\n",
      "File C:\\Users\\crist\\PycharmProjects\\strategic-fruits-card-detection\\src\\main\\python\\dataset_creation/data/cards\\1o\\415205353.png not used.\n",
      "File C:\\Users\\crist\\PycharmProjects\\strategic-fruits-card-detection\\src\\main\\python\\dataset_creation/data/cards\\1o\\443245653.png not used.\n",
      "File C:\\Users\\crist\\PycharmProjects\\strategic-fruits-card-detection\\src\\main\\python\\dataset_creation/data/cards\\1o\\468465692.png not used.\n",
      "File C:\\Users\\crist\\PycharmProjects\\strategic-fruits-card-detection\\src\\main\\python\\dataset_creation/data/cards\\1o\\488090483.png not used.\n",
      "File C:\\Users\\crist\\PycharmProjects\\strategic-fruits-card-detection\\src\\main\\python\\dataset_creation/data/cards\\1o\\517808373.png not used.\n",
      "File C:\\Users\\crist\\PycharmProjects\\strategic-fruits-card-detection\\src\\main\\python\\dataset_creation/data/cards\\1o\\532973228.png not used.\n",
      "File C:\\Users\\crist\\PycharmProjects\\strategic-fruits-card-detection\\src\\main\\python\\dataset_creation/data/cards\\1o\\620174078.png not used.\n",
      "File C:\\Users\\crist\\PycharmProjects\\strategic-fruits-card-detection\\src\\main\\python\\dataset_creation/data/cards\\1o\\628732172.png not used.\n",
      "File C:\\Users\\crist\\PycharmProjects\\strategic-fruits-card-detection\\src\\main\\python\\dataset_creation/data/cards\\1o\\636936987.png not used.\n",
      "File C:\\Users\\crist\\PycharmProjects\\strategic-fruits-card-detection\\src\\main\\python\\dataset_creation/data/cards\\1o\\642177102.png not used.\n",
      "File C:\\Users\\crist\\PycharmProjects\\strategic-fruits-card-detection\\src\\main\\python\\dataset_creation/data/cards\\1o\\719829130.png not used.\n",
      "File C:\\Users\\crist\\PycharmProjects\\strategic-fruits-card-detection\\src\\main\\python\\dataset_creation/data/cards\\1o\\742648560.png not used.\n",
      "File C:\\Users\\crist\\PycharmProjects\\strategic-fruits-card-detection\\src\\main\\python\\dataset_creation/data/cards\\1o\\742824478.png not used.\n",
      "File C:\\Users\\crist\\PycharmProjects\\strategic-fruits-card-detection\\src\\main\\python\\dataset_creation/data/cards\\1o\\771254696.png not used.\n",
      "File C:\\Users\\crist\\PycharmProjects\\strategic-fruits-card-detection\\src\\main\\python\\dataset_creation/data/cards\\1o\\774006811.png not used.\n",
      "File C:\\Users\\crist\\PycharmProjects\\strategic-fruits-card-detection\\src\\main\\python\\dataset_creation/data/cards\\1o\\782689489.png not used.\n",
      "File C:\\Users\\crist\\PycharmProjects\\strategic-fruits-card-detection\\src\\main\\python\\dataset_creation/data/cards\\1o\\807588009.png not used.\n",
      "File C:\\Users\\crist\\PycharmProjects\\strategic-fruits-card-detection\\src\\main\\python\\dataset_creation/data/cards\\1o\\812388329.png not used.\n",
      "File C:\\Users\\crist\\PycharmProjects\\strategic-fruits-card-detection\\src\\main\\python\\dataset_creation/data/cards\\1o\\847947198.png not used.\n",
      "File C:\\Users\\crist\\PycharmProjects\\strategic-fruits-card-detection\\src\\main\\python\\dataset_creation/data/cards\\1o\\865181063.png not used.\n",
      "File C:\\Users\\crist\\PycharmProjects\\strategic-fruits-card-detection\\src\\main\\python\\dataset_creation/data/cards\\1o\\894861972.png not used.\n",
      "File C:\\Users\\crist\\PycharmProjects\\strategic-fruits-card-detection\\src\\main\\python\\dataset_creation/data/cards\\1o\\918674589.png not used.\n",
      "File C:\\Users\\crist\\PycharmProjects\\strategic-fruits-card-detection\\src\\main\\python\\dataset_creation/data/cards\\1o\\921558237.png not used.\n",
      "File C:\\Users\\crist\\PycharmProjects\\strategic-fruits-card-detection\\src\\main\\python\\dataset_creation/data/cards\\1o\\926757807.png not used.\n",
      "File C:\\Users\\crist\\PycharmProjects\\strategic-fruits-card-detection\\src\\main\\python\\dataset_creation/data/cards\\1o\\947898913.png not used.\n",
      "File C:\\Users\\crist\\PycharmProjects\\strategic-fruits-card-detection\\src\\main\\python\\dataset_creation/data/cards\\1o\\950618167.png not used.\n",
      "File C:\\Users\\crist\\PycharmProjects\\strategic-fruits-card-detection\\src\\main\\python\\dataset_creation/data/cards\\1o\\971218416.png not used.\n",
      "File C:\\Users\\crist\\PycharmProjects\\strategic-fruits-card-detection\\src\\main\\python\\dataset_creation/data/cards\\1o\\991383625.png not used.\n",
      "Nb images for 1o : 108\n",
      "Nb images for 2o : 150\n",
      "File C:\\Users\\crist\\PycharmProjects\\strategic-fruits-card-detection\\src\\main\\python\\dataset_creation/data/cards\\3o\\001914491.png not used.\n",
      "File C:\\Users\\crist\\PycharmProjects\\strategic-fruits-card-detection\\src\\main\\python\\dataset_creation/data/cards\\3o\\014562654.png not used.\n",
      "File C:\\Users\\crist\\PycharmProjects\\strategic-fruits-card-detection\\src\\main\\python\\dataset_creation/data/cards\\3o\\089692901.png not used.\n",
      "File C:\\Users\\crist\\PycharmProjects\\strategic-fruits-card-detection\\src\\main\\python\\dataset_creation/data/cards\\3o\\138994476.png not used.\n",
      "File C:\\Users\\crist\\PycharmProjects\\strategic-fruits-card-detection\\src\\main\\python\\dataset_creation/data/cards\\3o\\159927932.png not used.\n",
      "File C:\\Users\\crist\\PycharmProjects\\strategic-fruits-card-detection\\src\\main\\python\\dataset_creation/data/cards\\3o\\167073597.png not used.\n",
      "File C:\\Users\\crist\\PycharmProjects\\strategic-fruits-card-detection\\src\\main\\python\\dataset_creation/data/cards\\3o\\205534714.png not used.\n",
      "File C:\\Users\\crist\\PycharmProjects\\strategic-fruits-card-detection\\src\\main\\python\\dataset_creation/data/cards\\3o\\246431722.png not used.\n",
      "File C:\\Users\\crist\\PycharmProjects\\strategic-fruits-card-detection\\src\\main\\python\\dataset_creation/data/cards\\3o\\250115579.png not used.\n",
      "File C:\\Users\\crist\\PycharmProjects\\strategic-fruits-card-detection\\src\\main\\python\\dataset_creation/data/cards\\3o\\289857870.png not used.\n",
      "File C:\\Users\\crist\\PycharmProjects\\strategic-fruits-card-detection\\src\\main\\python\\dataset_creation/data/cards\\3o\\294930423.png not used.\n",
      "File C:\\Users\\crist\\PycharmProjects\\strategic-fruits-card-detection\\src\\main\\python\\dataset_creation/data/cards\\3o\\296247923.png not used.\n",
      "File C:\\Users\\crist\\PycharmProjects\\strategic-fruits-card-detection\\src\\main\\python\\dataset_creation/data/cards\\3o\\330883144.png not used.\n",
      "File C:\\Users\\crist\\PycharmProjects\\strategic-fruits-card-detection\\src\\main\\python\\dataset_creation/data/cards\\3o\\355280367.png not used.\n",
      "File C:\\Users\\crist\\PycharmProjects\\strategic-fruits-card-detection\\src\\main\\python\\dataset_creation/data/cards\\3o\\367044028.png not used.\n",
      "File C:\\Users\\crist\\PycharmProjects\\strategic-fruits-card-detection\\src\\main\\python\\dataset_creation/data/cards\\3o\\372841258.png not used.\n",
      "File C:\\Users\\crist\\PycharmProjects\\strategic-fruits-card-detection\\src\\main\\python\\dataset_creation/data/cards\\3o\\385262390.png not used.\n",
      "File C:\\Users\\crist\\PycharmProjects\\strategic-fruits-card-detection\\src\\main\\python\\dataset_creation/data/cards\\3o\\404838741.png not used.\n",
      "File C:\\Users\\crist\\PycharmProjects\\strategic-fruits-card-detection\\src\\main\\python\\dataset_creation/data/cards\\3o\\414676650.png not used.\n",
      "File C:\\Users\\crist\\PycharmProjects\\strategic-fruits-card-detection\\src\\main\\python\\dataset_creation/data/cards\\3o\\425536332.png not used.\n",
      "File C:\\Users\\crist\\PycharmProjects\\strategic-fruits-card-detection\\src\\main\\python\\dataset_creation/data/cards\\3o\\428662498.png not used.\n",
      "File C:\\Users\\crist\\PycharmProjects\\strategic-fruits-card-detection\\src\\main\\python\\dataset_creation/data/cards\\3o\\430647305.png not used.\n",
      "File C:\\Users\\crist\\PycharmProjects\\strategic-fruits-card-detection\\src\\main\\python\\dataset_creation/data/cards\\3o\\459615464.png not used.\n",
      "File C:\\Users\\crist\\PycharmProjects\\strategic-fruits-card-detection\\src\\main\\python\\dataset_creation/data/cards\\3o\\474436526.png not used.\n",
      "File C:\\Users\\crist\\PycharmProjects\\strategic-fruits-card-detection\\src\\main\\python\\dataset_creation/data/cards\\3o\\498138726.png not used.\n",
      "File C:\\Users\\crist\\PycharmProjects\\strategic-fruits-card-detection\\src\\main\\python\\dataset_creation/data/cards\\3o\\532250720.png not used.\n",
      "File C:\\Users\\crist\\PycharmProjects\\strategic-fruits-card-detection\\src\\main\\python\\dataset_creation/data/cards\\3o\\532368982.png not used.\n",
      "File C:\\Users\\crist\\PycharmProjects\\strategic-fruits-card-detection\\src\\main\\python\\dataset_creation/data/cards\\3o\\532380458.png not used.\n",
      "File C:\\Users\\crist\\PycharmProjects\\strategic-fruits-card-detection\\src\\main\\python\\dataset_creation/data/cards\\3o\\555115927.png not used.\n",
      "File C:\\Users\\crist\\PycharmProjects\\strategic-fruits-card-detection\\src\\main\\python\\dataset_creation/data/cards\\3o\\628886021.png not used.\n",
      "File C:\\Users\\crist\\PycharmProjects\\strategic-fruits-card-detection\\src\\main\\python\\dataset_creation/data/cards\\3o\\648495066.png not used.\n",
      "File C:\\Users\\crist\\PycharmProjects\\strategic-fruits-card-detection\\src\\main\\python\\dataset_creation/data/cards\\3o\\655470901.png not used.\n",
      "File C:\\Users\\crist\\PycharmProjects\\strategic-fruits-card-detection\\src\\main\\python\\dataset_creation/data/cards\\3o\\679790017.png not used.\n",
      "File C:\\Users\\crist\\PycharmProjects\\strategic-fruits-card-detection\\src\\main\\python\\dataset_creation/data/cards\\3o\\703803790.png not used.\n",
      "File C:\\Users\\crist\\PycharmProjects\\strategic-fruits-card-detection\\src\\main\\python\\dataset_creation/data/cards\\3o\\707828304.png not used.\n",
      "File C:\\Users\\crist\\PycharmProjects\\strategic-fruits-card-detection\\src\\main\\python\\dataset_creation/data/cards\\3o\\722977029.png not used.\n",
      "File C:\\Users\\crist\\PycharmProjects\\strategic-fruits-card-detection\\src\\main\\python\\dataset_creation/data/cards\\3o\\729131912.png not used.\n",
      "File C:\\Users\\crist\\PycharmProjects\\strategic-fruits-card-detection\\src\\main\\python\\dataset_creation/data/cards\\3o\\747824972.png not used.\n",
      "File C:\\Users\\crist\\PycharmProjects\\strategic-fruits-card-detection\\src\\main\\python\\dataset_creation/data/cards\\3o\\750949204.png not used.\n",
      "File C:\\Users\\crist\\PycharmProjects\\strategic-fruits-card-detection\\src\\main\\python\\dataset_creation/data/cards\\3o\\784201742.png not used.\n",
      "File C:\\Users\\crist\\PycharmProjects\\strategic-fruits-card-detection\\src\\main\\python\\dataset_creation/data/cards\\3o\\809671958.png not used.\n",
      "File C:\\Users\\crist\\PycharmProjects\\strategic-fruits-card-detection\\src\\main\\python\\dataset_creation/data/cards\\3o\\814630847.png not used.\n",
      "File C:\\Users\\crist\\PycharmProjects\\strategic-fruits-card-detection\\src\\main\\python\\dataset_creation/data/cards\\3o\\869589736.png not used.\n",
      "File C:\\Users\\crist\\PycharmProjects\\strategic-fruits-card-detection\\src\\main\\python\\dataset_creation/data/cards\\3o\\902562507.png not used.\n",
      "File C:\\Users\\crist\\PycharmProjects\\strategic-fruits-card-detection\\src\\main\\python\\dataset_creation/data/cards\\3o\\904789187.png not used.\n",
      "File C:\\Users\\crist\\PycharmProjects\\strategic-fruits-card-detection\\src\\main\\python\\dataset_creation/data/cards\\3o\\907793011.png not used.\n",
      "File C:\\Users\\crist\\PycharmProjects\\strategic-fruits-card-detection\\src\\main\\python\\dataset_creation/data/cards\\3o\\994005250.png not used.\n",
      "File C:\\Users\\crist\\PycharmProjects\\strategic-fruits-card-detection\\src\\main\\python\\dataset_creation/data/cards\\3o\\997691750.png not used.\n",
      "File C:\\Users\\crist\\PycharmProjects\\strategic-fruits-card-detection\\src\\main\\python\\dataset_creation/data/cards\\3o\\998772545.png not used.\n",
      "Nb images for 3o : 101\n",
      "File C:\\Users\\crist\\PycharmProjects\\strategic-fruits-card-detection\\src\\main\\python\\dataset_creation/data/cards\\4o\\006708707.png not used.\n",
      "File C:\\Users\\crist\\PycharmProjects\\strategic-fruits-card-detection\\src\\main\\python\\dataset_creation/data/cards\\4o\\077520126.png not used.\n",
      "File C:\\Users\\crist\\PycharmProjects\\strategic-fruits-card-detection\\src\\main\\python\\dataset_creation/data/cards\\4o\\082349964.png not used.\n",
      "File C:\\Users\\crist\\PycharmProjects\\strategic-fruits-card-detection\\src\\main\\python\\dataset_creation/data/cards\\4o\\124040493.png not used.\n",
      "File C:\\Users\\crist\\PycharmProjects\\strategic-fruits-card-detection\\src\\main\\python\\dataset_creation/data/cards\\4o\\140408916.png not used.\n",
      "File C:\\Users\\crist\\PycharmProjects\\strategic-fruits-card-detection\\src\\main\\python\\dataset_creation/data/cards\\4o\\159242065.png not used.\n",
      "File C:\\Users\\crist\\PycharmProjects\\strategic-fruits-card-detection\\src\\main\\python\\dataset_creation/data/cards\\4o\\234317443.png not used.\n",
      "File C:\\Users\\crist\\PycharmProjects\\strategic-fruits-card-detection\\src\\main\\python\\dataset_creation/data/cards\\4o\\273907729.png not used.\n",
      "File C:\\Users\\crist\\PycharmProjects\\strategic-fruits-card-detection\\src\\main\\python\\dataset_creation/data/cards\\4o\\339112373.png not used.\n",
      "File C:\\Users\\crist\\PycharmProjects\\strategic-fruits-card-detection\\src\\main\\python\\dataset_creation/data/cards\\4o\\353004681.png not used.\n",
      "File C:\\Users\\crist\\PycharmProjects\\strategic-fruits-card-detection\\src\\main\\python\\dataset_creation/data/cards\\4o\\354202456.png not used.\n",
      "File C:\\Users\\crist\\PycharmProjects\\strategic-fruits-card-detection\\src\\main\\python\\dataset_creation/data/cards\\4o\\413556122.png not used.\n",
      "File C:\\Users\\crist\\PycharmProjects\\strategic-fruits-card-detection\\src\\main\\python\\dataset_creation/data/cards\\4o\\416611664.png not used.\n",
      "File C:\\Users\\crist\\PycharmProjects\\strategic-fruits-card-detection\\src\\main\\python\\dataset_creation/data/cards\\4o\\464430905.png not used.\n",
      "File C:\\Users\\crist\\PycharmProjects\\strategic-fruits-card-detection\\src\\main\\python\\dataset_creation/data/cards\\4o\\486930264.png not used.\n",
      "File C:\\Users\\crist\\PycharmProjects\\strategic-fruits-card-detection\\src\\main\\python\\dataset_creation/data/cards\\4o\\519903145.png not used.\n",
      "File C:\\Users\\crist\\PycharmProjects\\strategic-fruits-card-detection\\src\\main\\python\\dataset_creation/data/cards\\4o\\550473826.png not used.\n",
      "File C:\\Users\\crist\\PycharmProjects\\strategic-fruits-card-detection\\src\\main\\python\\dataset_creation/data/cards\\4o\\574421216.png not used.\n",
      "File C:\\Users\\crist\\PycharmProjects\\strategic-fruits-card-detection\\src\\main\\python\\dataset_creation/data/cards\\4o\\632609997.png not used.\n",
      "File C:\\Users\\crist\\PycharmProjects\\strategic-fruits-card-detection\\src\\main\\python\\dataset_creation/data/cards\\4o\\639693065.png not used.\n",
      "File C:\\Users\\crist\\PycharmProjects\\strategic-fruits-card-detection\\src\\main\\python\\dataset_creation/data/cards\\4o\\660227675.png not used.\n",
      "File C:\\Users\\crist\\PycharmProjects\\strategic-fruits-card-detection\\src\\main\\python\\dataset_creation/data/cards\\4o\\663731901.png not used.\n",
      "File C:\\Users\\crist\\PycharmProjects\\strategic-fruits-card-detection\\src\\main\\python\\dataset_creation/data/cards\\4o\\672690403.png not used.\n",
      "File C:\\Users\\crist\\PycharmProjects\\strategic-fruits-card-detection\\src\\main\\python\\dataset_creation/data/cards\\4o\\755093155.png not used.\n",
      "File C:\\Users\\crist\\PycharmProjects\\strategic-fruits-card-detection\\src\\main\\python\\dataset_creation/data/cards\\4o\\776804483.png not used.\n",
      "File C:\\Users\\crist\\PycharmProjects\\strategic-fruits-card-detection\\src\\main\\python\\dataset_creation/data/cards\\4o\\781140831.png not used.\n",
      "File C:\\Users\\crist\\PycharmProjects\\strategic-fruits-card-detection\\src\\main\\python\\dataset_creation/data/cards\\4o\\824677035.png not used.\n",
      "File C:\\Users\\crist\\PycharmProjects\\strategic-fruits-card-detection\\src\\main\\python\\dataset_creation/data/cards\\4o\\835627521.png not used.\n",
      "File C:\\Users\\crist\\PycharmProjects\\strategic-fruits-card-detection\\src\\main\\python\\dataset_creation/data/cards\\4o\\854069220.png not used.\n",
      "File C:\\Users\\crist\\PycharmProjects\\strategic-fruits-card-detection\\src\\main\\python\\dataset_creation/data/cards\\4o\\900540505.png not used.\n",
      "File C:\\Users\\crist\\PycharmProjects\\strategic-fruits-card-detection\\src\\main\\python\\dataset_creation/data/cards\\4o\\902307823.png not used.\n",
      "File C:\\Users\\crist\\PycharmProjects\\strategic-fruits-card-detection\\src\\main\\python\\dataset_creation/data/cards\\4o\\908312865.png not used.\n",
      "File C:\\Users\\crist\\PycharmProjects\\strategic-fruits-card-detection\\src\\main\\python\\dataset_creation/data/cards\\4o\\926234204.png not used.\n",
      "File C:\\Users\\crist\\PycharmProjects\\strategic-fruits-card-detection\\src\\main\\python\\dataset_creation/data/cards\\4o\\951381264.png not used.\n",
      "File C:\\Users\\crist\\PycharmProjects\\strategic-fruits-card-detection\\src\\main\\python\\dataset_creation/data/cards\\4o\\954264825.png not used.\n",
      "File C:\\Users\\crist\\PycharmProjects\\strategic-fruits-card-detection\\src\\main\\python\\dataset_creation/data/cards\\4o\\980779753.png not used.\n",
      "Nb images for 4o : 114\n",
      "File C:\\Users\\crist\\PycharmProjects\\strategic-fruits-card-detection\\src\\main\\python\\dataset_creation/data/cards\\5o\\103008996.png not used.\n",
      "File C:\\Users\\crist\\PycharmProjects\\strategic-fruits-card-detection\\src\\main\\python\\dataset_creation/data/cards\\5o\\121839950.png not used.\n",
      "File C:\\Users\\crist\\PycharmProjects\\strategic-fruits-card-detection\\src\\main\\python\\dataset_creation/data/cards\\5o\\211132076.png not used.\n",
      "File C:\\Users\\crist\\PycharmProjects\\strategic-fruits-card-detection\\src\\main\\python\\dataset_creation/data/cards\\5o\\312958621.png not used.\n",
      "File C:\\Users\\crist\\PycharmProjects\\strategic-fruits-card-detection\\src\\main\\python\\dataset_creation/data/cards\\5o\\340356608.png not used.\n",
      "File C:\\Users\\crist\\PycharmProjects\\strategic-fruits-card-detection\\src\\main\\python\\dataset_creation/data/cards\\5o\\372355350.png not used.\n",
      "File C:\\Users\\crist\\PycharmProjects\\strategic-fruits-card-detection\\src\\main\\python\\dataset_creation/data/cards\\5o\\468099906.png not used.\n",
      "File C:\\Users\\crist\\PycharmProjects\\strategic-fruits-card-detection\\src\\main\\python\\dataset_creation/data/cards\\5o\\549484422.png not used.\n",
      "File C:\\Users\\crist\\PycharmProjects\\strategic-fruits-card-detection\\src\\main\\python\\dataset_creation/data/cards\\5o\\638765540.png not used.\n",
      "File C:\\Users\\crist\\PycharmProjects\\strategic-fruits-card-detection\\src\\main\\python\\dataset_creation/data/cards\\5o\\789956727.png not used.\n",
      "File C:\\Users\\crist\\PycharmProjects\\strategic-fruits-card-detection\\src\\main\\python\\dataset_creation/data/cards\\5o\\800919678.png not used.\n",
      "File C:\\Users\\crist\\PycharmProjects\\strategic-fruits-card-detection\\src\\main\\python\\dataset_creation/data/cards\\5o\\824845334.png not used.\n",
      "File C:\\Users\\crist\\PycharmProjects\\strategic-fruits-card-detection\\src\\main\\python\\dataset_creation/data/cards\\5o\\844712414.png not used.\n",
      "File C:\\Users\\crist\\PycharmProjects\\strategic-fruits-card-detection\\src\\main\\python\\dataset_creation/data/cards\\5o\\870913458.png not used.\n",
      "File C:\\Users\\crist\\PycharmProjects\\strategic-fruits-card-detection\\src\\main\\python\\dataset_creation/data/cards\\5o\\928863884.png not used.\n",
      "File C:\\Users\\crist\\PycharmProjects\\strategic-fruits-card-detection\\src\\main\\python\\dataset_creation/data/cards\\5o\\953682616.png not used.\n",
      "Nb images for 5o : 134\n",
      "Nb images for 1b : 140\n",
      "Nb images for 2b : 150\n",
      "File C:\\Users\\crist\\PycharmProjects\\strategic-fruits-card-detection\\src\\main\\python\\dataset_creation/data/cards\\3b\\731728199.png not used.\n",
      "Nb images for 3b : 149\n",
      "Nb images for 4b : 150\n",
      "Nb images for 5b : 150\n",
      "Saved in : C:\\Users\\crist\\PycharmProjects\\strategic-fruits-card-detection\\src\\main\\python\\dataset_creation/data/cards.pck\n"
     ]
    }
   ],
   "execution_count": 6
  },
  {
   "metadata": {
    "ExecuteTime": {
     "end_time": "2024-05-31T16:09:54.488033Z",
     "start_time": "2024-05-31T16:09:54.015124Z"
    }
   },
   "cell_type": "code",
   "source": [
    "import pickle\n",
    "\n",
    "from global_variables import *\n",
    "\n",
    "cards_pck_fn = os.path.join(HOME, \"dataset_creation/data/cards.pck\")\n",
    "\n",
    "\n",
    "class Cards():\n",
    "    def __init__(self, cards_pck_fn=cards_pck_fn):\n",
    "        self._cards = pickle.load(open(cards_pck_fn, 'rb'))\n",
    "        # self._cards is a dictionary where keys are card names (ex:'Kc') and values are lists of (img,hullHL,hullLR) \n",
    "        self._nb_cards_by_value = {k: len(self._cards[k]) for k in self._cards}\n",
    "        print(\"Nb of cards loaded per name :\", self._nb_cards_by_value)\n",
    "\n",
    "    def get_random(self, card_name=None, display=False):\n",
    "        if card_name is None:\n",
    "            card_name = random.choice(list(self._cards.keys()))\n",
    "        card, hull1, hull2 = self._cards[card_name][random.randint(0, self._nb_cards_by_value[card_name] - 1)]\n",
    "        if display:\n",
    "            if display: display_img(card, [hull1, hull2], \"rgb\")\n",
    "        return card, card_name, hull1, hull2\n",
    "\n",
    "\n",
    "cards = Cards()"
   ],
   "id": "4246dea0927611c6",
   "outputs": [
    {
     "name": "stdout",
     "output_type": "stream",
     "text": [
      "Nb of cards loaded per name : {'1a': 125, '2a': 120, '3a': 107, '4a': 119, '5a': 150, '1p': 150, '2p': 125, '3p': 120, '4p': 150, '5p': 150, '1o': 108, '2o': 150, '3o': 101, '4o': 114, '5o': 134, '1b': 140, '2b': 150, '3b': 149, '4b': 150, '5b': 150}\n"
     ]
    }
   ],
   "execution_count": 7
  },
  {
   "metadata": {},
   "cell_type": "markdown",
   "source": "Creazione di scenari con due e tre carte",
   "id": "613a96008ba026e7"
  },
  {
   "metadata": {
    "ExecuteTime": {
     "end_time": "2024-05-31T16:11:36.472100Z",
     "start_time": "2024-05-31T16:11:33.667536Z"
    }
   },
   "cell_type": "code",
   "source": [
    "import os\n",
    "from tqdm import tqdm\n",
    "from background_random import backgrounds\n",
    "from cards_scenario import Scene\n",
    "\n",
    "def generate_scenarios(num_scenarios, save_dir):\n",
    "    for _ in tqdm(range(num_scenarios)):\n",
    "        bg = backgrounds.get_random()\n",
    "        img1, card_val1, hulla1, hullb1 = cards.get_random()\n",
    "        img2, card_val2, hulla2, hullb2 = cards.get_random()\n",
    "        newimg = Scene(bg, img1, card_val1, hulla1, hullb1, img2, card_val2, hulla2, hullb2)\n",
    "        newimg.write_files(save_dir)\n",
    "\n",
    "model_training_dir = os.path.join(HOME, \"model_training/\" + dataset_name)\n",
    "scenario_types = ['train', 'val', 'test']\n",
    "num_scenarios = [7, 15, 15]  # Number of scenarios for train, val, test respectively\n",
    "\n",
    "for scenario_type, num in zip(scenario_types, num_scenarios):\n",
    "    save_dir = os.path.join(model_training_dir, scenario_type, \"images\")\n",
    "    os.makedirs(save_dir, exist_ok=True)\n",
    "    generate_scenarios(num, save_dir)\n",
    "    \n",
    "print(\"Scenarios with 2 cards generated\")"
   ],
   "id": "91161ebc98d2502a",
   "outputs": [
    {
     "name": "stderr",
     "output_type": "stream",
     "text": [
      "100%|██████████| 7/7 [00:00<00:00, 12.17it/s]\n",
      "100%|██████████| 15/15 [00:01<00:00, 13.23it/s]\n",
      "100%|██████████| 15/15 [00:01<00:00, 13.88it/s]"
     ]
    },
    {
     "name": "stdout",
     "output_type": "stream",
     "text": [
      "Scenarios with 2 cards generated\n"
     ]
    },
    {
     "name": "stderr",
     "output_type": "stream",
     "text": [
      "\n"
     ]
    }
   ],
   "execution_count": 13
  },
  {
   "metadata": {
    "ExecuteTime": {
     "end_time": "2024-05-31T16:12:03.915749Z",
     "start_time": "2024-05-31T16:11:58.650820Z"
    }
   },
   "cell_type": "code",
   "source": [
    "import os\n",
    "from tqdm import tqdm\n",
    "from background_random import backgrounds\n",
    "from cards_scenario import Scene\n",
    "\n",
    "def generate_scenarios(num_scenarios, save_dir):\n",
    "    for _ in tqdm(range(num_scenarios)):\n",
    "        bg = backgrounds.get_random()\n",
    "        img1, card_val1, hulla1, hullb1 = cards.get_random()\n",
    "        img2, card_val2, hulla2, hullb2 = cards.get_random()\n",
    "        img3, card_val3, hulla3, hullb3 = cards.get_random()\n",
    "        newimg = Scene(bg, img1, card_val1, hulla1, hullb1, img2, card_val2, hulla2, hullb2, img3, card_val3, hulla3, hullb3)\n",
    "        newimg.write_files(save_dir)\n",
    "\n",
    "model_training_dir = os.path.join(HOME, \"model_training/\" + dataset_name)\n",
    "scenario_types = ['train', 'val', 'test']\n",
    "\n",
    "for scenario_type, num in zip(scenario_types, num_scenarios):\n",
    "    save_dir = os.path.join(model_training_dir, scenario_type, \"images\")\n",
    "    os.makedirs(save_dir, exist_ok=True)\n",
    "    generate_scenarios(num, save_dir)\n",
    "\n",
    "print(\"Scenarios with 3 cards generated\")"
   ],
   "id": "2a79ba4685e25892",
   "outputs": [
    {
     "name": "stderr",
     "output_type": "stream",
     "text": [
      "100%|██████████| 7/7 [00:00<00:00,  7.11it/s]\n",
      "100%|██████████| 15/15 [00:02<00:00,  6.88it/s]\n",
      "100%|██████████| 15/15 [00:02<00:00,  7.20it/s]"
     ]
    },
    {
     "name": "stdout",
     "output_type": "stream",
     "text": [
      "Scenarios with 3 cards generated\n"
     ]
    },
    {
     "name": "stderr",
     "output_type": "stream",
     "text": [
      "\n"
     ]
    }
   ],
   "execution_count": 14
  },
  {
   "metadata": {},
   "cell_type": "markdown",
   "source": "Creazione dei label dal file xml di ogni immagine",
   "id": "6f47b7e2fe3c42fc"
  },
  {
   "metadata": {
    "ExecuteTime": {
     "end_time": "2024-05-31T16:12:29.898499Z",
     "start_time": "2024-05-31T16:12:29.167734Z"
    }
   },
   "cell_type": "code",
   "source": [
    "import os\n",
    "import subprocess\n",
    "\n",
    "\n",
    "def create_dir_if_not_exists(directory):\n",
    "    if not os.path.isdir(directory):\n",
    "        os.makedirs(directory)\n",
    "\n",
    "\n",
    "def run_command(command):\n",
    "    subprocess.run(command)\n",
    "\n",
    "\n",
    "labels_dirs = [os.path.join(model_training_dir, \"train/labels\"), os.path.join(model_training_dir, \"val/labels\"),\n",
    "               os.path.join(model_training_dir, \"test/labels\")]\n",
    "convert_voc_yolo_dir = os.path.join(HOME, \"dataset_creation/convert_voc_yolo.py\")\n",
    "images_dirs = [os.path.join(model_training_dir, \"train/images\"), os.path.join(model_training_dir, \"val/images\"),\n",
    "               os.path.join(model_training_dir, \"test/images\")]\n",
    "cards_names_dir = os.path.join(HOME, \"dataset_creation/data/cards.names\")\n",
    "\n",
    "commands = [\n",
    "    [\"python\", convert_voc_yolo_dir, images_dirs[0], cards_names_dir],\n",
    "    [\"python\", convert_voc_yolo_dir, images_dirs[1], cards_names_dir],\n",
    "    [\"python\", convert_voc_yolo_dir, images_dirs[2], cards_names_dir],\n",
    "]\n",
    "\n",
    "for command in commands:\n",
    "    run_command(command)"
   ],
   "id": "9890371b6b7239ce",
   "outputs": [],
   "execution_count": 15
  },
  {
   "metadata": {
    "ExecuteTime": {
     "end_time": "2024-05-31T16:12:31.008739Z",
     "start_time": "2024-05-31T16:12:30.988039Z"
    }
   },
   "cell_type": "code",
   "source": [
    "\n",
    "import shutil\n",
    "\n",
    "\n",
    "def move_txt_files(source_dir, destination_dir):\n",
    "    if not os.path.isdir(destination_dir):\n",
    "        os.makedirs(destination_dir)\n",
    "\n",
    "    for file_name in os.listdir(source_dir):\n",
    "        if file_name.endswith(\".txt\"):\n",
    "            source = os.path.join(source_dir, file_name)\n",
    "            destination = os.path.join(destination_dir, file_name)\n",
    "            shutil.move(source, destination)\n",
    "\n",
    "\n",
    "for directory in labels_dirs:\n",
    "    create_dir_if_not_exists(directory)\n",
    "\n",
    "for source_dir, destination_dir in zip(images_dirs, labels_dirs):\n",
    "    move_txt_files(source_dir, destination_dir)"
   ],
   "id": "f5906704f8f32b3e",
   "outputs": [],
   "execution_count": 16
  },
  {
   "metadata": {
    "ExecuteTime": {
     "end_time": "2024-05-31T16:12:32.760046Z",
     "start_time": "2024-05-31T16:12:32.747164Z"
    }
   },
   "cell_type": "code",
   "source": [
    "import os\n",
    "import glob\n",
    "\n",
    "\n",
    "def delete_xml_files(directory):\n",
    "    # Get all XML files in the directory\n",
    "    xml_files = glob.glob(os.path.join(directory, '*.xml'))\n",
    "\n",
    "    # Delete each XML file\n",
    "    for xml_file in xml_files:\n",
    "        os.remove(xml_file)\n",
    "\n",
    "\n",
    "# Use the function on your directories\n",
    "for directory in images_dirs:\n",
    "    delete_xml_files(directory)"
   ],
   "id": "bb0e52fc2d44b62",
   "outputs": [],
   "execution_count": 17
  }
 ],
 "metadata": {
  "kernelspec": {
   "display_name": "Python 3",
   "language": "python",
   "name": "python3"
  },
  "language_info": {
   "codemirror_mode": {
    "name": "ipython",
    "version": 2
   },
   "file_extension": ".py",
   "mimetype": "text/x-python",
   "name": "python",
   "nbconvert_exporter": "python",
   "pygments_lexer": "ipython2",
   "version": "2.7.6"
  }
 },
 "nbformat": 4,
 "nbformat_minor": 5
}
