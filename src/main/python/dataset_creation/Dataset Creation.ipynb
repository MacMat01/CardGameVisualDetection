﻿{
 "cells": [
  {
   "metadata": {},
   "cell_type": "markdown",
   "source": "Esegui lo script dataset_creation/test_hull.py per verificare che i bounding box e gli hull nei bounding box siano corretti. Se non viene mostrata nessuna carta dovrai modificare i valori TWEAK nello script hull.py finché test_hull.py non restituirà un'immagine con box e hull ogni volta che viene eseguito(eseguilo diverse volte, non fermarti alla prima esecuzione corretta).",
   "id": "2aebcf3407f8983b"
  },
  {
   "metadata": {},
   "cell_type": "markdown",
   "source": "Ora che hai verificato che gli hull funzionano puoi eseguire per intero questo file Jupyter Notebook.",
   "id": "a521c256f1c60f22"
  },
  {
   "metadata": {
    "ExecuteTime": {
     "end_time": "2024-05-31T12:05:24.486471Z",
     "start_time": "2024-05-31T12:05:24.482556Z"
    }
   },
   "cell_type": "code",
   "source": [
    "import os\n",
    "\n",
    "# Get the current working directory. This is the directory from which the script is being run.\n",
    "ROOT = os.getcwd()\n",
    "HOME = os.path.dirname(ROOT)\n",
    "\n",
    "# Print the current working directory. This can be useful for debugging, to ensure that your files are being \n",
    "# accessed from the correct location.\n",
    "print(HOME)"
   ],
   "id": "a827fc8c1f7c5964",
   "execution_count": 5,
   "outputs": []
  },
  {
   "metadata": {},
   "cell_type": "markdown",
   "source": "Hull delle carte",
   "id": "79a68f5ddfd7a8ce"
  },
  {
   "metadata": {
    "ExecuteTime": {
     "end_time": "2024-05-31T12:05:30.792659Z",
     "start_time": "2024-05-31T12:05:24.498487Z"
    }
   },
   "cell_type": "code",
   "source": [
    "import pickle\n",
    "from glob import glob\n",
    "from global_variables import *\n",
    "\n",
    "from functions import *\n",
    "\n",
    "from hull import findHull\n",
    "\n",
    "# find the convex hull for all the cards and store them in a pickle file\n",
    "imgs_dir = os.path.join(HOME, \"dataset_creation/data/cards\")\n",
    "cards_pck_fn = os.path.join(HOME, \"dataset_creation/data/cards.pck\")\n",
    "\n",
    "cards = {}\n",
    "for suit in card_suits:\n",
    "    for value in card_values:\n",
    "        card_name = value + suit\n",
    "        card_dir = os.path.join(imgs_dir, card_name)\n",
    "        if not os.path.isdir(card_dir):\n",
    "            print(f\"!!! {card_dir} does not exist !!!\")\n",
    "            continue\n",
    "        cards[card_name] = []\n",
    "        for f in glob(card_dir + \"/*.png\"):\n",
    "            img = cv2.imread(f, cv2.IMREAD_UNCHANGED)\n",
    "            hullHL = findHull(img, refCornerHL, debug=\"no\")\n",
    "            if hullHL is None:\n",
    "                print(f\"File {f} not used.\")\n",
    "                continue\n",
    "            hullLR = findHull(img, refCornerLR, debug=\"no\")\n",
    "            if hullLR is None:\n",
    "                print(f\"File {f} not used.\")\n",
    "                continue\n",
    "            # We store the image in \"rgb\" format (we don't need opencv anymore)\n",
    "            img = cv2.cvtColor(img, cv2.COLOR_BGRA2RGBA)\n",
    "            cards[card_name].append((img, hullHL, hullLR))\n",
    "        print(f\"Nb images for {card_name} : {len(cards[card_name])}\")\n",
    "\n",
    "print(\"Saved in :\", cards_pck_fn)\n",
    "pickle.dump(cards, open(cards_pck_fn, 'wb'))\n",
    "\n",
    "cv2.destroyAllWindows()"
   ],
   "id": "8ed4740a72289522",
   "execution_count": 6,
   "outputs": []
  },
  {
   "metadata": {
    "ExecuteTime": {
     "end_time": "2024-05-31T12:05:31.368086Z",
     "start_time": "2024-05-31T12:05:30.794664Z"
    }
   },
   "cell_type": "code",
   "source": [
    "import pickle\n",
    "\n",
    "from global_variables import *\n",
    "\n",
    "cards_pck_fn = os.path.join(HOME, \"dataset_creation/data/cards.pck\")\n",
    "\n",
    "\n",
    "class Cards():\n",
    "    def __init__(self, cards_pck_fn=cards_pck_fn):\n",
    "        self._cards = pickle.load(open(cards_pck_fn, 'rb'))\n",
    "        # self._cards is a dictionary where keys are card names (ex:'Kc') and values are lists of (img,hullHL,hullLR) \n",
    "        self._nb_cards_by_value = {k: len(self._cards[k]) for k in self._cards}\n",
    "        print(\"Nb of cards loaded per name :\", self._nb_cards_by_value)\n",
    "\n",
    "    def get_random(self, card_name=None, display=False):\n",
    "        if card_name is None:\n",
    "            card_name = random.choice(list(self._cards.keys()))\n",
    "        card, hull1, hull2 = self._cards[card_name][random.randint(0, self._nb_cards_by_value[card_name] - 1)]\n",
    "        if display:\n",
    "            if display: display_img(card, [hull1, hull2], \"rgb\")\n",
    "        return card, card_name, hull1, hull2\n",
    "\n",
    "\n",
    "cards = Cards()"
   ],
   "id": "4246dea0927611c6",
   "execution_count": 7,
   "outputs": []
  },
  {
   "metadata": {},
   "cell_type": "markdown",
   "source": "Creazione di scenari con due e tre carte",
   "id": "613a96008ba026e7"
  },
  {
   "metadata": {
    "ExecuteTime": {
     "end_time": "2024-05-31T12:17:45.337125Z",
     "start_time": "2024-05-31T12:05:31.369094Z"
    }
   },
   "cell_type": "code",
   "source": [
    "import os\n",
    "from tqdm import tqdm\n",
    "from background_random import backgrounds\n",
    "from card_load import cards\n",
    "from cards_scenario import Scene\n",
    "\n",
    "def generate_scenarios(num_scenarios, save_dir):\n",
    "    for _ in tqdm(range(num_scenarios)):\n",
    "        bg = backgrounds.get_random()\n",
    "        img1, card_val1, hulla1, hullb1 = cards.get_random()\n",
    "        img2, card_val2, hulla2, hullb2 = cards.get_random()\n",
    "        newimg = Scene(bg, img1, card_val1, hulla1, hullb1, img2, card_val2, hulla2, hullb2)\n",
    "        newimg.write_files(save_dir)\n",
    "\n",
    "model_training_dir = os.path.join(HOME, \"model_training/\" + dataset_name)\n",
    "scenario_types = ['train', 'val', 'test']\n",
    "num_scenarios = [7000, 1500, 1500]  # Number of scenarios for train, val, test respectively\n",
    "\n",
    "for scenario_type, num in zip(scenario_types, num_scenarios):\n",
    "    save_dir = os.path.join(model_training_dir, scenario_type, \"images\")\n",
    "    os.makedirs(save_dir, exist_ok=True)\n",
    "    generate_scenarios(num, save_dir)"
   ],
   "id": "91161ebc98d2502a",
   "execution_count": 8,
   "outputs": []
  },
  {
   "metadata": {
    "ExecuteTime": {
     "end_time": "2024-05-31T12:41:54.922667Z",
     "start_time": "2024-05-31T12:17:45.338131Z"
    }
   },
   "cell_type": "code",
   "source": [
    "import os\n",
    "from tqdm import tqdm\n",
    "from background_random import backgrounds\n",
    "from card_load import cards\n",
    "from cards_scenario import Scene\n",
    "\n",
    "def generate_scenarios(num_scenarios, save_dir):\n",
    "    for _ in tqdm(range(num_scenarios)):\n",
    "        bg = backgrounds.get_random()\n",
    "        img1, card_val1, hulla1, hullb1 = cards.get_random()\n",
    "        img2, card_val2, hulla2, hullb2 = cards.get_random()\n",
    "        img3, card_val3, hulla3, hullb3 = cards.get_random()\n",
    "        newimg = Scene(bg, img1, card_val1, hulla1, hullb1, img2, card_val2, hulla2, hullb2, img3, card_val3, hulla3, hullb3)\n",
    "        newimg.write_files(save_dir)\n",
    "\n",
    "model_training_dir = os.path.join(HOME, \"model_training/\" + dataset_name)\n",
    "scenario_types = ['train', 'val', 'test']\n",
    "\n",
    "for scenario_type, num in zip(scenario_types, num_scenarios):\n",
    "    save_dir = os.path.join(model_training_dir, scenario_type, \"images\")\n",
    "    os.makedirs(save_dir, exist_ok=True)\n",
    "    generate_scenarios(num, save_dir)\n"
   ],
   "id": "2a79ba4685e25892",
   "execution_count": 9,
   "outputs": []
  },
  {
   "metadata": {},
   "cell_type": "markdown",
   "source": "Creazione dei label dal file xml di ogni immagine",
   "id": "6f47b7e2fe3c42fc"
  },
  {
   "metadata": {
    "ExecuteTime": {
     "end_time": "2024-05-31T12:43:26.725610Z",
     "start_time": "2024-05-31T12:41:54.923674Z"
    }
   },
   "cell_type": "code",
   "source": [
    "import os\n",
    "import subprocess\n",
    "\n",
    "\n",
    "def create_dir_if_not_exists(directory):\n",
    "    if not os.path.isdir(directory):\n",
    "        os.makedirs(directory)\n",
    "\n",
    "\n",
    "def run_command(command):\n",
    "    subprocess.run(command)\n",
    "\n",
    "\n",
    "labels_dirs = [os.path.join(model_training_dir, \"train/labels\"), os.path.join(model_training_dir, \"val/labels\"),\n",
    "               os.path.join(model_training_dir, \"test/labels\")]\n",
    "convert_voc_yolo_dir = os.path.join(HOME, \"dataset_creation/convert_voc_yolo.py\")\n",
    "images_dirs = [os.path.join(model_training_dir, \"train/images\"), os.path.join(model_training_dir, \"val/images\"),\n",
    "               os.path.join(model_training_dir, \"test/images\")]\n",
    "cards_names_dir = os.path.join(HOME, \"dataset_creation/data/cards.names\")\n",
    "\n",
    "commands = [\n",
    "    [\"python\", convert_voc_yolo_dir, images_dirs[0], cards_names_dir],\n",
    "    [\"python\", convert_voc_yolo_dir, images_dirs[1], cards_names_dir],\n",
    "    [\"python\", convert_voc_yolo_dir, images_dirs[2], cards_names_dir],\n",
    "]\n",
    "\n",
    "for command in commands:\n",
    "    run_command(command)"
   ],
   "id": "9890371b6b7239ce",
   "execution_count": 10,
   "outputs": []
  },
  {
   "metadata": {
    "ExecuteTime": {
     "end_time": "2024-05-31T12:43:30.954004Z",
     "start_time": "2024-05-31T12:43:26.726614Z"
    }
   },
   "cell_type": "code",
   "source": [
    "\n",
    "import shutil\n",
    "\n",
    "\n",
    "def move_txt_files(source_dir, destination_dir):\n",
    "    if not os.path.isdir(destination_dir):\n",
    "        os.makedirs(destination_dir)\n",
    "\n",
    "    for file_name in os.listdir(source_dir):\n",
    "        if file_name.endswith(\".txt\"):\n",
    "            source = os.path.join(source_dir, file_name)\n",
    "            destination = os.path.join(destination_dir, file_name)\n",
    "            shutil.move(source, destination)\n",
    "\n",
    "\n",
    "for directory in labels_dirs:\n",
    "    create_dir_if_not_exists(directory)\n",
    "\n",
    "for source_dir, destination_dir in zip(images_dirs, labels_dirs):\n",
    "    move_txt_files(source_dir, destination_dir)"
   ],
   "id": "f5906704f8f32b3e",
   "execution_count": 11,
   "outputs": []
  },
  {
   "metadata": {
    "ExecuteTime": {
     "end_time": "2024-05-31T12:43:33.114121Z",
     "start_time": "2024-05-31T12:43:30.955010Z"
    }
   },
   "cell_type": "code",
   "source": [
    "import os\n",
    "import glob\n",
    "\n",
    "\n",
    "def delete_xml_files(directory):\n",
    "    # Get all XML files in the directory\n",
    "    xml_files = glob.glob(os.path.join(directory, '*.xml'))\n",
    "\n",
    "    # Delete each XML file\n",
    "    for xml_file in xml_files:\n",
    "        os.remove(xml_file)\n",
    "\n",
    "\n",
    "# Use the function on your directories\n",
    "for directory in images_dirs:\n",
    "    delete_xml_files(directory)"
   ],
   "id": "bb0e52fc2d44b62",
   "execution_count": 12,
   "outputs": []
  }
 ],
 "metadata": {
  "kernelspec": {
   "display_name": "Python 3",
   "language": "python",
   "name": "python3"
  },
  "language_info": {
   "codemirror_mode": {
    "name": "ipython",
    "version": 2
   },
   "file_extension": ".py",
   "mimetype": "text/x-python",
   "name": "python",
   "nbconvert_exporter": "python",
   "pygments_lexer": "ipython2",
   "version": "2.7.6"
  }
 },
 "nbformat": 4,
 "nbformat_minor": 5
}
