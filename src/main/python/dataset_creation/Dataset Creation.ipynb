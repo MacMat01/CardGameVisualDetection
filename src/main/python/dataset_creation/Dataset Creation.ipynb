﻿{
 "cells": [
  {
   "metadata": {},
   "cell_type": "markdown",
   "source": [
    "# Dataset Creation\n",
    "Esegui lo script dataset_creation/test_hull.py per verificare che i bounding box e gli hull nei bounding box siano corretti. Se non viene mostrata nessuna carta dovrai modificare i valori TWEAK nello script hull.py finché test_hull.py non restituirà un'immagine con box e hull ogni volta che viene eseguito(eseguilo diverse volte, non fermarti alla prima esecuzione corretta)."
   ],
   "id": "2aebcf3407f8983b"
  },
  {
   "metadata": {},
   "cell_type": "markdown",
   "source": "Ora che hai verificato che gli hull funzionano puoi eseguire per intero questo file Jupyter Notebook.",
   "id": "a521c256f1c60f22"
  },
  {
   "metadata": {
    "ExecuteTime": {
     "end_time": "2024-05-31T16:26:11.246854Z",
     "start_time": "2024-05-31T16:26:11.241751Z"
    }
   },
   "cell_type": "code",
   "source": [
    "import os\n",
    "\n",
    "# Get the current working directory. This is the directory from which the script is being run.\n",
    "ROOT = os.getcwd()\n",
    "HOME = os.path.dirname(ROOT)\n",
    "\n",
    "# Print the current working directory. This can be useful for debugging, to ensure that your files are being \n",
    "# accessed from the correct location.\n",
    "print(HOME)"
   ],
   "id": "a827fc8c1f7c5964",
   "outputs": [
    {
     "name": "stdout",
     "output_type": "stream",
     "text": [
      "C:\\Users\\crist\\PycharmProjects\\strategic-fruits-card-detection\\src\\main\\python\n"
     ]
    }
   ],
   "execution_count": 25
  },
  {
   "metadata": {},
   "cell_type": "markdown",
   "source": "Hull delle carte",
   "id": "79a68f5ddfd7a8ce"
  },
  {
   "metadata": {
    "ExecuteTime": {
     "end_time": "2024-05-31T16:26:49.846253Z",
     "start_time": "2024-05-31T16:26:42.752579Z"
    }
   },
   "cell_type": "code",
   "source": [
    "import pickle\n",
    "from glob import glob\n",
    "from global_variables import *\n",
    "\n",
    "from functions import *\n",
    "\n",
    "from hull import findHull\n",
    "\n",
    "# find the convex hull for all the cards and store them in a pickle file\n",
    "imgs_dir = os.path.join(HOME, \"dataset_creation/data/cards\")\n",
    "cards_pck_fn = os.path.join(HOME, \"dataset_creation/data/cards.pck\")\n",
    "\n",
    "cards = {}\n",
    "counter = 0\n",
    "for suit in card_suits:\n",
    "    for value in card_values:\n",
    "        card_name = value + suit\n",
    "        card_dir = os.path.join(imgs_dir, card_name)\n",
    "        if not os.path.isdir(card_dir):\n",
    "            print(f\"!!! {card_dir} does not exist !!!\")\n",
    "            continue\n",
    "        cards[card_name] = []\n",
    "        for f in glob(card_dir + \"/*.png\"):\n",
    "            img = cv2.imread(f, cv2.IMREAD_UNCHANGED)\n",
    "            hullHL = findHull(img, refCornerHL, debug=\"no\")\n",
    "            if hullHL is None:\n",
    "                counter += 1\n",
    "                continue\n",
    "            hullLR = findHull(img, refCornerLR, debug=\"no\")\n",
    "            if hullLR is None:\n",
    "                counter += 1\n",
    "                continue\n",
    "            # We store the image in \"rgb\" format (we don't need opencv anymore)\n",
    "            img = cv2.cvtColor(img, cv2.COLOR_BGRA2RGBA)\n",
    "            cards[card_name].append((img, hullHL, hullLR))\n",
    "        print(f\"Images used for {card_name} : {len(cards[card_name])}\")\n",
    "        print(f\"Images discarded for {card_name} : {counter}\")\n",
    "        counter = 0\n",
    "\n",
    "print(\"Saved in :\", cards_pck_fn)\n",
    "pickle.dump(cards, open(cards_pck_fn, 'wb'))\n",
    "\n",
    "cv2.destroyAllWindows()"
   ],
   "id": "8ed4740a72289522",
   "outputs": [
    {
     "name": "stdout",
     "output_type": "stream",
     "text": [
      "Images used for 1a : 125\n",
      "Images discarded for 1a : 10\n",
      "Images used for 2a : 120\n",
      "Images discarded for 2a : 6\n",
      "Images used for 3a : 107\n",
      "Images discarded for 3a : 16\n",
      "Images used for 4a : 119\n",
      "Images discarded for 4a : 0\n",
      "Images used for 5a : 150\n",
      "Images discarded for 5a : 0\n",
      "Images used for 1p : 150\n",
      "Images discarded for 1p : 0\n",
      "Images used for 2p : 125\n",
      "Images discarded for 2p : 0\n",
      "Images used for 3p : 120\n",
      "Images discarded for 3p : 0\n",
      "Images used for 4p : 150\n",
      "Images discarded for 4p : 0\n",
      "Images used for 5p : 150\n",
      "Images discarded for 5p : 0\n",
      "Images used for 1o : 108\n",
      "Images discarded for 1o : 42\n",
      "Images used for 2o : 150\n",
      "Images discarded for 2o : 0\n",
      "Images used for 3o : 101\n",
      "Images discarded for 3o : 49\n",
      "Images used for 4o : 114\n",
      "Images discarded for 4o : 36\n",
      "Images used for 5o : 134\n",
      "Images discarded for 5o : 16\n",
      "Images used for 1b : 140\n",
      "Images discarded for 1b : 0\n",
      "Images used for 2b : 150\n",
      "Images discarded for 2b : 0\n",
      "Images used for 3b : 149\n",
      "Images discarded for 3b : 1\n",
      "Images used for 4b : 150\n",
      "Images discarded for 4b : 0\n",
      "Images used for 5b : 150\n",
      "Images discarded for 5b : 0\n",
      "Saved in : C:\\Users\\crist\\PycharmProjects\\strategic-fruits-card-detection\\src\\main\\python\\dataset_creation/data/cards.pck\n"
     ]
    }
   ],
   "execution_count": 33
  },
  {
   "metadata": {
    "ExecuteTime": {
     "end_time": "2024-05-31T16:26:29.604522Z",
     "start_time": "2024-05-31T16:26:29.157992Z"
    }
   },
   "cell_type": "code",
   "source": [
    "import pickle\n",
    "\n",
    "from global_variables import *\n",
    "\n",
    "cards_pck_fn = os.path.join(HOME, \"dataset_creation/data/cards.pck\")\n",
    "\n",
    "\n",
    "class Cards():\n",
    "    def __init__(self, cards_pck_fn=cards_pck_fn):\n",
    "        self._cards = pickle.load(open(cards_pck_fn, 'rb'))\n",
    "        # self._cards is a dictionary where keys are card names (ex:'Kc') and values are lists of (img,hullHL,hullLR) \n",
    "        self._nb_cards_by_value = {k: len(self._cards[k]) for k in self._cards}\n",
    "        print(\"Nb of cards loaded per name :\", self._nb_cards_by_value)\n",
    "\n",
    "    def get_random(self, card_name=None, display=False):\n",
    "        if card_name is None:\n",
    "            card_name = random.choice(list(self._cards.keys()))\n",
    "        card, hull1, hull2 = self._cards[card_name][random.randint(0, self._nb_cards_by_value[card_name] - 1)]\n",
    "        if display:\n",
    "            if display: display_img(card, [hull1, hull2], \"rgb\")\n",
    "        return card, card_name, hull1, hull2\n",
    "\n",
    "\n",
    "cards = Cards()"
   ],
   "id": "4246dea0927611c6",
   "outputs": [
    {
     "name": "stdout",
     "output_type": "stream",
     "text": [
      "Nb of cards loaded per name : {'1a': 125, '2a': 120, '3a': 107, '4a': 119, '5a': 150, '1p': 150, '2p': 125, '3p': 120, '4p': 150, '5p': 150, '1o': 108, '2o': 150, '3o': 101, '4o': 114, '5o': 134, '1b': 140, '2b': 150, '3b': 149, '4b': 150, '5b': 150}\n"
     ]
    }
   ],
   "execution_count": 27
  },
  {
   "metadata": {},
   "cell_type": "markdown",
   "source": "Creazione di scenari con due e tre carte",
   "id": "613a96008ba026e7"
  },
  {
   "metadata": {
    "ExecuteTime": {
     "end_time": "2024-05-31T16:26:32.395355Z",
     "start_time": "2024-05-31T16:26:29.605530Z"
    }
   },
   "cell_type": "code",
   "source": [
    "import os\n",
    "from tqdm import tqdm\n",
    "from background_random import backgrounds\n",
    "from cards_scenario import Scene\n",
    "\n",
    "def generate_scenarios(num_scenarios, save_dir):\n",
    "    for _ in tqdm(range(num_scenarios)):\n",
    "        bg = backgrounds.get_random()\n",
    "        img1, card_val1, hulla1, hullb1 = cards.get_random()\n",
    "        img2, card_val2, hulla2, hullb2 = cards.get_random()\n",
    "        newimg = Scene(bg, img1, card_val1, hulla1, hullb1, img2, card_val2, hulla2, hullb2)\n",
    "        newimg.write_files(save_dir)\n",
    "\n",
    "model_training_dir = os.path.join(HOME, \"model_training/\" + dataset_name)\n",
    "scenario_types = ['train', 'val', 'test']\n",
    "num_scenarios = [7, 15, 15]  # Number of scenarios for train, val, test respectively\n",
    "\n",
    "for scenario_type, num in zip(scenario_types, num_scenarios):\n",
    "    save_dir = os.path.join(model_training_dir, scenario_type, \"images\")\n",
    "    os.makedirs(save_dir, exist_ok=True)\n",
    "    generate_scenarios(num, save_dir)\n",
    "    \n",
    "print(\"Scenarios with 2 cards generated\")"
   ],
   "id": "91161ebc98d2502a",
   "outputs": [
    {
     "name": "stderr",
     "output_type": "stream",
     "text": [
      "100%|██████████| 7/7 [00:00<00:00, 12.52it/s]\n",
      "100%|██████████| 15/15 [00:01<00:00, 13.40it/s]\n",
      "100%|██████████| 15/15 [00:01<00:00, 13.80it/s]"
     ]
    },
    {
     "name": "stdout",
     "output_type": "stream",
     "text": [
      "Scenarios with 2 cards generated\n"
     ]
    },
    {
     "name": "stderr",
     "output_type": "stream",
     "text": [
      "\n"
     ]
    }
   ],
   "execution_count": 28
  },
  {
   "metadata": {
    "ExecuteTime": {
     "end_time": "2024-05-31T16:26:38.142054Z",
     "start_time": "2024-05-31T16:26:32.396361Z"
    }
   },
   "cell_type": "code",
   "source": [
    "import os\n",
    "from tqdm import tqdm\n",
    "from background_random import backgrounds\n",
    "from cards_scenario import Scene\n",
    "\n",
    "def generate_scenarios(num_scenarios, save_dir):\n",
    "    for _ in tqdm(range(num_scenarios)):\n",
    "        bg = backgrounds.get_random()\n",
    "        img1, card_val1, hulla1, hullb1 = cards.get_random()\n",
    "        img2, card_val2, hulla2, hullb2 = cards.get_random()\n",
    "        img3, card_val3, hulla3, hullb3 = cards.get_random()\n",
    "        newimg = Scene(bg, img1, card_val1, hulla1, hullb1, img2, card_val2, hulla2, hullb2, img3, card_val3, hulla3, hullb3)\n",
    "        newimg.write_files(save_dir)\n",
    "\n",
    "model_training_dir = os.path.join(HOME, \"model_training/\" + dataset_name)\n",
    "scenario_types = ['train', 'val', 'test']\n",
    "\n",
    "for scenario_type, num in zip(scenario_types, num_scenarios):\n",
    "    save_dir = os.path.join(model_training_dir, scenario_type, \"images\")\n",
    "    os.makedirs(save_dir, exist_ok=True)\n",
    "    generate_scenarios(num, save_dir)\n",
    "\n",
    "print(\"Scenarios with 3 cards generated\")"
   ],
   "id": "2a79ba4685e25892",
   "outputs": [
    {
     "name": "stderr",
     "output_type": "stream",
     "text": [
      "100%|██████████| 7/7 [00:00<00:00,  7.28it/s]\n",
      "100%|██████████| 15/15 [00:02<00:00,  6.48it/s]\n",
      "100%|██████████| 15/15 [00:02<00:00,  6.11it/s]"
     ]
    },
    {
     "name": "stdout",
     "output_type": "stream",
     "text": [
      "Scenarios with 3 cards generated\n"
     ]
    },
    {
     "name": "stderr",
     "output_type": "stream",
     "text": [
      "\n"
     ]
    }
   ],
   "execution_count": 29
  },
  {
   "metadata": {},
   "cell_type": "markdown",
   "source": "Creazione dei label dal file xml di ogni immagine",
   "id": "6f47b7e2fe3c42fc"
  },
  {
   "metadata": {
    "ExecuteTime": {
     "end_time": "2024-05-31T16:26:38.780678Z",
     "start_time": "2024-05-31T16:26:38.144061Z"
    }
   },
   "cell_type": "code",
   "source": [
    "import os\n",
    "import subprocess\n",
    "\n",
    "\n",
    "def create_dir_if_not_exists(directory):\n",
    "    if not os.path.isdir(directory):\n",
    "        os.makedirs(directory)\n",
    "\n",
    "\n",
    "def run_command(command):\n",
    "    subprocess.run(command)\n",
    "\n",
    "\n",
    "labels_dirs = [os.path.join(model_training_dir, \"train/labels\"), os.path.join(model_training_dir, \"val/labels\"),\n",
    "               os.path.join(model_training_dir, \"test/labels\")]\n",
    "convert_voc_yolo_dir = os.path.join(HOME, \"dataset_creation/convert_voc_yolo.py\")\n",
    "images_dirs = [os.path.join(model_training_dir, \"train/images\"), os.path.join(model_training_dir, \"val/images\"),\n",
    "               os.path.join(model_training_dir, \"test/images\")]\n",
    "cards_names_dir = os.path.join(HOME, \"dataset_creation/data/cards.names\")\n",
    "\n",
    "commands = [\n",
    "    [\"python\", convert_voc_yolo_dir, images_dirs[0], cards_names_dir],\n",
    "    [\"python\", convert_voc_yolo_dir, images_dirs[1], cards_names_dir],\n",
    "    [\"python\", convert_voc_yolo_dir, images_dirs[2], cards_names_dir],\n",
    "]\n",
    "\n",
    "for command in commands:\n",
    "    run_command(command)"
   ],
   "id": "9890371b6b7239ce",
   "outputs": [],
   "execution_count": 30
  },
  {
   "metadata": {
    "ExecuteTime": {
     "end_time": "2024-05-31T16:26:38.808083Z",
     "start_time": "2024-05-31T16:26:38.781684Z"
    }
   },
   "cell_type": "code",
   "source": [
    "\n",
    "import shutil\n",
    "\n",
    "\n",
    "def move_txt_files(source_dir, destination_dir):\n",
    "    if not os.path.isdir(destination_dir):\n",
    "        os.makedirs(destination_dir)\n",
    "\n",
    "    for file_name in os.listdir(source_dir):\n",
    "        if file_name.endswith(\".txt\"):\n",
    "            source = os.path.join(source_dir, file_name)\n",
    "            destination = os.path.join(destination_dir, file_name)\n",
    "            shutil.move(source, destination)\n",
    "\n",
    "\n",
    "for directory in labels_dirs:\n",
    "    create_dir_if_not_exists(directory)\n",
    "\n",
    "for source_dir, destination_dir in zip(images_dirs, labels_dirs):\n",
    "    move_txt_files(source_dir, destination_dir)"
   ],
   "id": "f5906704f8f32b3e",
   "outputs": [],
   "execution_count": 31
  },
  {
   "metadata": {
    "ExecuteTime": {
     "end_time": "2024-05-31T16:26:38.822832Z",
     "start_time": "2024-05-31T16:26:38.809604Z"
    }
   },
   "cell_type": "code",
   "source": [
    "import os\n",
    "import glob\n",
    "\n",
    "\n",
    "def delete_xml_files(directory):\n",
    "    # Get all XML files in the directory\n",
    "    xml_files = glob.glob(os.path.join(directory, '*.xml'))\n",
    "\n",
    "    # Delete each XML file\n",
    "    for xml_file in xml_files:\n",
    "        os.remove(xml_file)\n",
    "\n",
    "\n",
    "# Use the function on your directories\n",
    "for directory in images_dirs:\n",
    "    delete_xml_files(directory)"
   ],
   "id": "bb0e52fc2d44b62",
   "outputs": [],
   "execution_count": 32
  }
 ],
 "metadata": {
  "kernelspec": {
   "display_name": "Python 3",
   "language": "python",
   "name": "python3"
  },
  "language_info": {
   "codemirror_mode": {
    "name": "ipython",
    "version": 2
   },
   "file_extension": ".py",
   "mimetype": "text/x-python",
   "name": "python",
   "nbconvert_exporter": "python",
   "pygments_lexer": "ipython2",
   "version": "2.7.6"
  }
 },
 "nbformat": 4,
 "nbformat_minor": 5
}
